{
 "cells": [
  {
   "cell_type": "markdown",
   "id": "38e188a5",
   "metadata": {},
   "source": [
    "# Exercise 00\n",
    "Write a piece of code that allocates a list of 20 integers and initializes each element by its index multiplied by 5. Print the result."
   ]
  },
  {
   "cell_type": "code",
   "execution_count": 10,
   "id": "01aa4f35",
   "metadata": {},
   "outputs": [],
   "source": [
    "myNumber = []\n",
    "for i in range(20):\n",
    "    myNumber.append(i*5)"
   ]
  },
  {
   "cell_type": "code",
   "execution_count": 12,
   "id": "6f27ffce-af60-4194-812b-6c0b92aca481",
   "metadata": {},
   "outputs": [
    {
     "data": {
      "text/plain": [
       "[0, 5, 10, 15, 20, 25, 30, 35, 40, 45, 50, 55, 60, 65, 70, 75, 80, 85, 90, 95]"
      ]
     },
     "execution_count": 12,
     "metadata": {},
     "output_type": "execute_result"
    }
   ],
   "source": [
    "myNumber"
   ]
  },
  {
   "cell_type": "markdown",
   "id": "529d91ae",
   "metadata": {},
   "source": [
    "# Exercise 01\n",
    "Define a function that takes an integer as input, prints  all integers that it is divisable by, and returns the largest one."
   ]
  },
  {
   "cell_type": "code",
   "execution_count": 43,
   "id": "30e79132",
   "metadata": {},
   "outputs": [
    {
     "name": "stdout",
     "output_type": "stream",
     "text": [
      "divisable of 10:\n",
      "1\n",
      "2\n",
      "5\n",
      "10\n",
      "The largest divisable of 10 is 10.\n"
     ]
    }
   ],
   "source": [
    "def divisable(n):\n",
    "    max = None\n",
    "    print(f\"divisable of {n}:\")\n",
    "\n",
    "    for i in range(1, n + 1):\n",
    "        if n%i == 0:\n",
    "            print(i)\n",
    "            max = i\n",
    "    return max\n",
    "\n",
    "myNumber = int(10) # change to whatever amount of numbers, but if empty () then it will print None\n",
    "largest = divisable(myNumber)\n",
    "print(f\"The largest divisable of {myNumber} is {largest}.\")\n"
   ]
  },
  {
   "cell_type": "markdown",
   "id": "cfbe30d4",
   "metadata": {},
   "source": [
    "# Exercise 02\n",
    "- create a dictionary with 6 keys and values of your choice\n",
    "- write a function that takes a dictionary and a value as input and returns whether the value occurs as a key in the dictionary\n",
    "- write a function that takes a dictionary as input, and returns the dictionary but the keys are swapped with their values (resolve the issue if a value occurs twice!)"
   ]
  },
  {
   "cell_type": "code",
   "execution_count": 21,
   "id": "2123f1c6",
   "metadata": {},
   "outputs": [],
   "source": [
    "dogs = {\n",
    "    'chihuahua': 1,\n",
    "    'pitbull': 2,\n",
    "    'bulldog': 3,\n",
    "    'dobermann': 4,\n",
    "    'husky': 5,\n",
    "    'rottweiler': 6\n",
    "}"
   ]
  },
  {
   "cell_type": "code",
   "execution_count": 24,
   "id": "86f99d26-07ff-42aa-b2d6-8f9c0913abda",
   "metadata": {},
   "outputs": [
    {
     "name": "stdout",
     "output_type": "stream",
     "text": [
      "True\n"
     ]
    }
   ],
   "source": [
    "def key(d, value):\n",
    "    if value in d:\n",
    "        return True\n",
    "    else:\n",
    "        return False\n",
    "\n",
    "breed = \"chihuahua\"\n",
    "print(key(dogs, breed))"
   ]
  },
  {
   "cell_type": "code",
   "execution_count": 30,
   "id": "47fb5d2c-c694-436a-8706-f275953548bf",
   "metadata": {},
   "outputs": [
    {
     "name": "stdout",
     "output_type": "stream",
     "text": [
      "{1: 'chihuahua', 2: 'pitbull', 3: 'bulldog', 4: 'dobermann', 5: 'husky', 6: 'rottweiler'}\n"
     ]
    }
   ],
   "source": [
    "def breedtodogs(d):\n",
    "    swap = {}\n",
    "    items = list(d.items())\n",
    "\n",
    "    for item in items:\n",
    "        key, value = item\n",
    "        if value in swap:\n",
    "            if isinstance(swap[breed], list):\n",
    "                swap[breed].append(dogs)\n",
    "            else:\n",
    "                swap[breed] = [swap[breed], dogs]\n",
    "        else:\n",
    "            swap[breed] = dogs\n",
    "\n",
    "    return swap\n",
    "    \n",
    "swap = breedtodogs(dogs)\n",
    "print(swapped_dogs)\n"
   ]
  },
  {
   "cell_type": "markdown",
   "id": "b4b4e426",
   "metadata": {},
   "source": [
    "# Exercise 03\n",
    "Define a function that creates a dictionary of the first n fibonacci numbers as values paired with their indices as keys. "
   ]
  },
  {
   "cell_type": "code",
   "execution_count": 37,
   "id": "7845b5a4",
   "metadata": {},
   "outputs": [
    {
     "name": "stdout",
     "output_type": "stream",
     "text": [
      "{0: 0, 1: 1, 2: 2, 3: 4, 4: 8, 5: 16, 6: 32, 7: 64, 8: 128, 9: 256}\n"
     ]
    }
   ],
   "source": [
    "def fibonacci(n):\n",
    "    dict = {} \n",
    "    a = 0\n",
    "    b = 1\n",
    "\n",
    "    for i in range(n):\n",
    "        dict[i] = a\n",
    "        a = b\n",
    "        b = a+b\n",
    "    return dict\n",
    "\n",
    "n = int(10) # change to whatever amount of numbers\n",
    "myNumber = fibonacci(n)\n",
    "print(myNumber)\n"
   ]
  },
  {
   "cell_type": "code",
   "execution_count": null,
   "id": "ef1ba790-4ad2-45f0-9a7b-ad5bcdfe4969",
   "metadata": {},
   "outputs": [],
   "source": []
  }
 ],
 "metadata": {
  "kernelspec": {
   "display_name": "Python 3 (ipykernel)",
   "language": "python",
   "name": "python3"
  },
  "language_info": {
   "codemirror_mode": {
    "name": "ipython",
    "version": 3
   },
   "file_extension": ".py",
   "mimetype": "text/x-python",
   "name": "python",
   "nbconvert_exporter": "python",
   "pygments_lexer": "ipython3",
   "version": "3.12.4"
  }
 },
 "nbformat": 4,
 "nbformat_minor": 5
}
